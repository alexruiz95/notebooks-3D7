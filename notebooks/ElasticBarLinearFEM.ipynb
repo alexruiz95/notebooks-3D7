{
 "metadata": {
  "name": "",
  "signature": "sha256:f53fa522e0f0e3beca741aba01a6060651e29c6cd18fad87bbffb1be31bb39d8"
 },
 "nbformat": 3,
 "nbformat_minor": 0,
 "worksheets": [
  {
   "cells": [
    {
     "cell_type": "heading",
     "level": 1,
     "metadata": {},
     "source": [
      "Finite element solver for an elastic rod"
     ]
    },
    {
     "cell_type": "markdown",
     "metadata": {},
     "source": [
      "We create in this notebook a simple finite element solver for a linear elastic rod using continuous, piecewise linear finite elements.\n",
      "\n",
      "We will use NumPy to perform the simulations, and Matplotlib to visualise the results, so we first import the NumPy and Matplotlib modules:"
     ]
    },
    {
     "cell_type": "code",
     "collapsed": false,
     "input": [
      "import numpy as np\n",
      "%matplotlib inline\n",
      "import matplotlib.pyplot as plt"
     ],
     "language": "python",
     "metadata": {},
     "outputs": [],
     "prompt_number": 1
    },
    {
     "cell_type": "heading",
     "level": 2,
     "metadata": {},
     "source": [
      "A first solver"
     ]
    },
    {
     "cell_type": "heading",
     "level": 3,
     "metadata": {},
     "source": [
      "Elastic parameters"
     ]
    },
    {
     "cell_type": "markdown",
     "metadata": {},
     "source": [
      "For our elastic rod, we define the Young's modulus $E$ and the cross-sectional area $A$. Both are assumed constant."
     ]
    },
    {
     "cell_type": "code",
     "collapsed": false,
     "input": [
      "E = 100.0\n",
      "A = 1.0"
     ],
     "language": "python",
     "metadata": {},
     "outputs": [],
     "prompt_number": 2
    },
    {
     "cell_type": "heading",
     "level": 3,
     "metadata": {},
     "source": [
      "Distributed load"
     ]
    },
    {
     "cell_type": "markdown",
     "metadata": {},
     "source": [
      "We now define the distributed load $f$. We will use a function that takes the coordinate $x$ as an argument so we possibly define loading terms that vary with position."
     ]
    },
    {
     "cell_type": "code",
     "collapsed": false,
     "input": [
      "def distributed_load(x):\n",
      "    return 1.0"
     ],
     "language": "python",
     "metadata": {},
     "outputs": [],
     "prompt_number": 3
    },
    {
     "cell_type": "heading",
     "level": 3,
     "metadata": {},
     "source": [
      "Create a mesh"
     ]
    },
    {
     "cell_type": "markdown",
     "metadata": {},
     "source": [
      "We will create a mesh of length $L$ with a prescribed number of cells (elements) $n_{\\text{cells}}$. For linear elements, the number of nodes $n_{\\text{nodes}}$ is equal to $n_{\\text{cells}} + 1$."
     ]
    },
    {
     "cell_type": "code",
     "collapsed": false,
     "input": [
      "L = 10.0\n",
      "n_cells = 30\n",
      "n_nodes = n_cells + 1"
     ],
     "language": "python",
     "metadata": {},
     "outputs": [],
     "prompt_number": 4
    },
    {
     "cell_type": "markdown",
     "metadata": {},
     "source": [
      "To create a mesh from 0 to $L$ with equal size cells (elements) we will use the NumPy function `linspace` to generate an array of equally spaced points on the interval $[0, L]$."
     ]
    },
    {
     "cell_type": "code",
     "collapsed": false,
     "input": [
      "mesh = np.linspace(0.0, L, n_nodes)"
     ],
     "language": "python",
     "metadata": {},
     "outputs": [],
     "prompt_number": 5
    },
    {
     "cell_type": "markdown",
     "metadata": {},
     "source": [
      "Matplotlib can be used to visualise the mesh:"
     ]
    },
    {
     "cell_type": "code",
     "collapsed": false,
     "input": [
      "plt.xlabel('$x$')\n",
      "plt.title('finite element mesh')\n",
      "plt.plot(mesh, [0]*len(mesh), 'ro-');"
     ],
     "language": "python",
     "metadata": {},
     "outputs": [
      {
       "metadata": {},
       "output_type": "display_data",
       "png": "[encoded data removed]",
       "text": [
        "<matplotlib.figure.Figure at 0x7fec2a1849d0>"
       ]
      }
     ],
     "prompt_number": 6
    },
    {
     "cell_type": "heading",
     "level": 3,
     "metadata": {},
     "source": [
      "A simple finite element solver"
     ]
    },
    {
     "cell_type": "markdown",
     "metadata": {},
     "source": [
      "We have already defined our domain (the mesh) and the constitutive parameters ($E$ and $A$). We now need to build the global stiffness matrix $\\boldsymbol{K}$ and the global right-hand side vector $\\boldsymbol{b}$, after which we can solve $\\boldsymbol{K} \\boldsymbol{a} = \\boldsymbol{b}$ to get the nodal degrees-of-freedom $\\boldsymbol{a}$. "
     ]
    },
    {
     "cell_type": "heading",
     "level": 4,
     "metadata": {},
     "source": [
      "Create stiffness matrix $\\boldsymbol{K}$"
     ]
    },
    {
     "cell_type": "markdown",
     "metadata": {},
     "source": [
      "We create the global stiffness matrix by computing the element matrix $\\boldsymbol{k}_{e}$ (which is constant since $A$, $E$ and the cell size are constant in our case), and then looping over all cells and adding their contribution to the global matrix."
     ]
    },
    {
     "cell_type": "heading",
     "level": 5,
     "metadata": {},
     "source": [
      "Element stiffness matrix $\\boldsymbol{k}_{e}$"
     ]
    },
    {
     "cell_type": "markdown",
     "metadata": {},
     "source": [
      "The element stiffness matrix for a linear element of length $l$ and constant $AE$ is\n",
      "\n",
      "$$\n",
      "\\boldsymbol{k}_{e} \n",
      "= \\frac{EA}{l}\n",
      "\\begin{bmatrix}\n",
      "1 & -1 \\\\ -1 & 1    \n",
      "\\end{bmatrix}\n",
      "$$\n",
      "\n",
      "Our mesh has constant cells size, so we can compute $\\boldsymbol{k}_{e}$ just once:"
     ]
    },
    {
     "cell_type": "code",
     "collapsed": false,
     "input": [
      "l = L/n_cells\n",
      "k_e = (E*A/l)*np.array([[1, -1], [-1, 1]])\n",
      "print(k_e)"
     ],
     "language": "python",
     "metadata": {},
     "outputs": [
      {
       "output_type": "stream",
       "stream": "stdout",
       "text": [
        "[[ 300. -300.]\n",
        " [-300.  300.]]\n"
       ]
      }
     ],
     "prompt_number": 7
    },
    {
     "cell_type": "heading",
     "level": 5,
     "metadata": {},
     "source": [
      "Assemble global stiffness matrix"
     ]
    },
    {
     "cell_type": "markdown",
     "metadata": {},
     "source": [
      "To build the global stiffness matrix $\\boldsymbol{K}$, we first create an empty $n_{\\text{nodes}} \\times n_{\\text{nodes}}$ matrix: "
     ]
    },
    {
     "cell_type": "code",
     "collapsed": false,
     "input": [
      "K = np.zeros((n_nodes, n_nodes))"
     ],
     "language": "python",
     "metadata": {},
     "outputs": [],
     "prompt_number": 8
    },
    {
     "cell_type": "markdown",
     "metadata": {},
     "source": [
      "Next, we loop over each cell and add the cell contribution $\\boldsymbol{k}_{e}$ to the the global matrix $\\boldsymbol{K}$. This is known as *assembly*. "
     ]
    },
    {
     "cell_type": "code",
     "collapsed": false,
     "input": [
      "for element in range(n_cells):\n",
      "    K[element:element + 2, element:element + 2] += k_e"
     ],
     "language": "python",
     "metadata": {},
     "outputs": [],
     "prompt_number": 9
    },
    {
     "cell_type": "heading",
     "level": 4,
     "metadata": {},
     "source": [
      "Create RHS vector $\\boldsymbol{b}$"
     ]
    },
    {
     "cell_type": "markdown",
     "metadata": {},
     "source": [
      "We create the global RHS vector $\\boldsymbol{b}$ by computing the cell RHS $\\boldsymbol{b}_{e}$ cell-by-cell, and adding this to the global RHS vector. We allow the distributed load $f$ to vary with position, which is why we cannot compute it just once. For simplicity we will integral the local RHS use the midpoint rule. This is exact of $f$ is constant, and is otherwise approximate.\n",
      "\n",
      "We first crate an empty global RHS vector: "
     ]
    },
    {
     "cell_type": "code",
     "collapsed": false,
     "input": [
      "b = np.zeros(n_nodes)"
     ],
     "language": "python",
     "metadata": {},
     "outputs": [],
     "prompt_number": 10
    },
    {
     "cell_type": "markdown",
     "metadata": {},
     "source": [
      "We now loop over each cell and compute $\\int_{x_{i}}^{x_{i+1}} N_{1} f dx$ and $\\int_{x_{i}}^{x_{i+1}} N_{2} f dx$ for each cell, and add the contribution to the global RHS vector: "
     ]
    },
    {
     "cell_type": "code",
     "collapsed": false,
     "input": [
      "for element in range(n_cells):\n",
      "\n",
      "    # Get cell length and midpoint\n",
      "    l     = mesh[element + 1] - mesh[element]   \n",
      "    x_mid = (mesh[element + 1] + mesh[element])/2.0\n",
      "    \n",
      "    # Evaluate loading term\n",
      "    f = distributed_load(x_mid)\n",
      "\n",
      "    # Compute and add RHS contributions\n",
      "    b[element:element + 2] += 0.5*l*f"
     ],
     "language": "python",
     "metadata": {},
     "outputs": [],
     "prompt_number": 11
    },
    {
     "cell_type": "heading",
     "level": 4,
     "metadata": {},
     "source": [
      "Apply Dirichet (displacement) boundary condition"
     ]
    },
    {
     "cell_type": "markdown",
     "metadata": {},
     "source": [
      "We're almost to solve a finite element problem, but we would get into trouble if we tried to solve $\\boldsymbol{K} \\boldsymbol{a} = \\boldsymbol{b}$ using the above stiffness matrix because it is singular (you can verify this be computing the determinate with `np.linalg.det(K)`). The system is singular because we have not applied a Dirichlet boundary condition, hence there is a rigid body translation mode in th system.\n",
      "\n",
      "We impose the boundary condition $u = 0$ and $x=0$ by zeroing the first row and column of the matrix, placing a one on the first diagonal entry and setting the first entry on the RHS to zero. It should be clear algebraically that this will ensure that the first degree of freedom is equation to zero when we solve the system."
     ]
    },
    {
     "cell_type": "code",
     "collapsed": false,
     "input": [
      "# Zero first row and first column\n",
      "K[0, :] = 0.0\n",
      "K[:, 0] = 0.0\n",
      "\n",
      "# Place one on the diagonoal of K and zero in the first entry on the RHS\n",
      "K[0, 0] = 1.0\n",
      "b[0] = 0.0"
     ],
     "language": "python",
     "metadata": {},
     "outputs": [],
     "prompt_number": 12
    },
    {
     "cell_type": "heading",
     "level": 4,
     "metadata": {},
     "source": [
      "Solve system of equations"
     ]
    },
    {
     "cell_type": "markdown",
     "metadata": {},
     "source": [
      "We can now solve the finite element system $\\boldsymbol{K}$:"
     ]
    },
    {
     "cell_type": "code",
     "collapsed": false,
     "input": [
      "u = np.linalg.solve(K, b)"
     ],
     "language": "python",
     "metadata": {},
     "outputs": [],
     "prompt_number": 13
    },
    {
     "cell_type": "heading",
     "level": 4,
     "metadata": {},
     "source": [
      "Visualising the solution"
     ]
    },
    {
     "cell_type": "markdown",
     "metadata": {},
     "source": [
      "We now plot the solution:"
     ]
    },
    {
     "cell_type": "code",
     "collapsed": false,
     "input": [
      "plt.xlabel('$x$')\n",
      "plt.ylabel('$y$')\n",
      "plt.title('Finite element solution for the elastic bar')\n",
      "plt.plot(mesh, u, 'ro-');"
     ],
     "language": "python",
     "metadata": {},
     "outputs": [
      {
       "metadata": {},
       "output_type": "display_data",
       "png": "[encoded data removed]",
       "text": [
        "<matplotlib.figure.Figure at 0x7fec2810ce90>"
       ]
      }
     ],
     "prompt_number": 14
    },
    {
     "cell_type": "heading",
     "level": 2,
     "metadata": {},
     "source": [
      "A more programatic approach"
     ]
    },
    {
     "cell_type": "markdown",
     "metadata": {},
     "source": [
      "We now present a finite element solver that is very similar the one above, but we now provide a programming interface so we can explore different loading functions and different level of refine for the mesh."
     ]
    },
    {
     "cell_type": "code",
     "collapsed": false,
     "input": [
      "def solver(L, f, n_cells):\n",
      "    \"A simple finite element solver for a 1D bar\"    \n",
      "\n",
      "    # Crarte mesh and compute cell size\n",
      "    n_nodes = n_cells + 1\n",
      "    mesh = np.linspace(0.0, L, n_nodes)\n",
      "    l = L/n_cells\n",
      "\n",
      "    # Compute locall stiffness matrix\n",
      "    k_e = (E*A/l)*np.array([[1, -1], [-1, 1]])\n",
      "    \n",
      "    # Assemble global stiffnes matrix\n",
      "    K = np.zeros((n_nodes, n_nodes))\n",
      "    for element in range(n_cells):\n",
      "        K[element:element + 2, element:element + 2] += k_e\n",
      "        \n",
      "    # Two-point Gauss quadrature points on the interval (-1, 1)\n",
      "    x_quadrature = ((-1.0/np.sqrt(3.0), 1.0), (1.0/np.sqrt(3.0), 1.0))\n",
      "    \n",
      "    # Assemble RHS using two-point Gauss quadrature\n",
      "    b = np.zeros(n_nodes)    \n",
      "    for element in range(n_cells):\n",
      "\n",
      "        # Get cell midpoint\n",
      "        x_mid = (mesh[element + 1] + mesh[element])/2.0    \n",
      "\n",
      "        # Loop over quadrature points\n",
      "        for zeta, weight in x_quadrature:        \n",
      "            # Compute coordinate of point \n",
      "            x = x_mid + zeta*l/2.0\n",
      "\n",
      "            # Evaluate loading term\n",
      "            f_load = f(x)\n",
      "\n",
      "            # Quadrature weight\n",
      "            w = weight*(l/2.0)\n",
      "            \n",
      "            # Compute RHS contributions\n",
      "            N = 0.5 - zeta/2.0 \n",
      "            b[element] += w*N*f_load \n",
      "\n",
      "            N = 0.5 + zeta/2.0 \n",
      "            b[element + 1] += w*N*f_load\n",
      "\n",
      "    # Apply boundary condition\n",
      "    K[0, :], K[:, 0], K[0, 0] = 0.0, 0.0, 1.0\n",
      "    b[0] = 0.0\n",
      "    \n",
      "    return np.linalg.solve(K, b), mesh"
     ],
     "language": "python",
     "metadata": {},
     "outputs": [],
     "prompt_number": 15
    },
    {
     "cell_type": "markdown",
     "metadata": {},
     "source": [
      "We can now experiment with different loading functions and different levels of mesh refine. If we make $f = \\sin(x)$:"
     ]
    },
    {
     "cell_type": "code",
     "collapsed": false,
     "input": [
      "def f_sine(x):\n",
      "    return np.sin(x)"
     ],
     "language": "python",
     "metadata": {},
     "outputs": [],
     "prompt_number": 16
    },
    {
     "cell_type": "markdown",
     "metadata": {},
     "source": [
      "We now compute solutions for three increasingly fine meshes and store the mesh and the result:"
     ]
    },
    {
     "cell_type": "code",
     "collapsed": false,
     "input": [
      "meshes = [3, 5, 10, 20]\n",
      "solutions = [solver(L, f_sine, n) for n in meshes]"
     ],
     "language": "python",
     "metadata": {},
     "outputs": [],
     "prompt_number": 17
    },
    {
     "cell_type": "markdown",
     "metadata": {},
     "source": [
      "PLotting the solutions on the same graph:"
     ]
    },
    {
     "cell_type": "code",
     "collapsed": false,
     "input": [
      "plt.xlabel('$x$')\n",
      "plt.ylabel('$u$')\n",
      "plt.title('Finite element solution for the elastic bar')\n",
      "for u, mesh in solutions:\n",
      "    plt.plot(mesh, u, 'o-', label=str(len(mesh)-1) + ' cells');\n",
      "plt.legend(loc='upper left');"
     ],
     "language": "python",
     "metadata": {},
     "outputs": [
      {
       "metadata": {},
       "output_type": "display_data",
       "png": "[encoded data removed]",
       "text": [
        "<matplotlib.figure.Figure at 0x7fec28177390>"
       ]
      }
     ],
     "prompt_number": 18
    },
    {
     "cell_type": "markdown",
     "metadata": {},
     "source": [
      "We can see that the solutions get closer as the mesh is refined.\n",
      "\n",
      "**Exercise** Experiment with your own loading function, and compare the computed results to the analytical solution."
     ]
    }
   ],
   "metadata": {}
  }
 ]
}