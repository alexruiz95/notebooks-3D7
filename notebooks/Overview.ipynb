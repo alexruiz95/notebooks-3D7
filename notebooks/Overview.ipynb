{
 "metadata": {
  "name": "",
  "signature": "sha256:d7eef7d32f4e3e8deebcc864188ef6ff9f761fb359ac22620e84fd61055145c4"
 },
 "nbformat": 3,
 "nbformat_minor": 0,
 "worksheets": [
  {
   "cells": [
    {
     "cell_type": "heading",
     "level": 1,
     "metadata": {},
     "source": [
      "Finite Element Methods (3D7)"
     ]
    },
    {
     "cell_type": "markdown",
     "metadata": {},
     "source": [
      "This these notebooks are in support of the course Finite Element Methods (3D7) at the Department of Engineering, University of Cambridge.\n",
      "\n",
      "The notebooks are under development Please report any errors to  Garth N. Wells <gnw20@cam.ac.uk>.\n",
      "\n",
      "- [Finite element solver for an elastic bar](ElasticBarLinearFEM.ipynb)"
     ]
    }
   ],
   "metadata": {}
  }
 ]
}