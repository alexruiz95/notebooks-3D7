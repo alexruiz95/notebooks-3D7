{
 "metadata": {
  "name": "",
  "signature": "sha256:184f8253b4bb446b2a4c358ba1a1352d40a3438b2eab38aaac8d9407a5006efd"
 },
 "nbformat": 3,
 "nbformat_minor": 0,
 "worksheets": [
  {
   "cells": [
    {
     "cell_type": "heading",
     "level": 1,
     "metadata": {},
     "source": [
      "Finite Element Methods (3D7)"
     ]
    },
    {
     "cell_type": "markdown",
     "metadata": {},
     "source": [
      "This these notebooks are in support of the course Finite Element Methods (3D7) at the Department of Engineering, University of Cambridge.\n",
      "\n",
      "The notebooks are under development and will appear shortly. Please report any errors to  Garth N. Wells <gnw20@cam.ac.uk>.\n"
     ]
    }
   ],
   "metadata": {}
  }
 ]
}