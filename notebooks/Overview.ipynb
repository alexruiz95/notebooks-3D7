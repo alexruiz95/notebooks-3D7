{
<<<<<<< HEAD
 "metadata": {
  "name": "",
  "signature": "sha256:8c998d0d921a481acf566f21206b3f5dbd9bf237bd86a60694a13b47cb8f2d85"
 },
 "nbformat": 3,
 "nbformat_minor": 0,
 "worksheets": [
  {
   "cells": [
    {
     "cell_type": "heading",
     "level": 1,
     "metadata": {},
     "source": [
      "Finite Element Methods (3D7)"
     ]
    },
    {
     "cell_type": "markdown",
     "metadata": {},
     "source": [
      "This these notebooks are in support of the course Finite Element Methods (3D7) at the Department of Engineering, University of Cambridge.\n",
      "\n",
      "The notebooks are under development Please report any errors to  Garth N. Wells <gnw20@cam.ac.uk>.\n",
      "\n",
      "- [Basis finite element solver for an elastic bar](ElasticBarLinearFEM.ipynb)\n",
      "- [Shape functions](ShapeFunctions.ipynb)\n",
      "- [Time-dependent problems](TimeDependentProblems.ipynb)"
     ]
    }
   ],
   "metadata": {}
=======
 "cells": [
  {
   "cell_type": "markdown",
   "metadata": {},
   "source": [
    "# Finite Element Methods (3D7)"
   ]
  },
  {
   "cell_type": "markdown",
   "metadata": {},
   "source": [
    "This these notebooks are in support of the course Finite Element Methods (3D7) at the Department of Engineering, University of Cambridge.\n",
    "\n",
    "The notebooks are under development Please report any errors to  Garth N. Wells <gnw20@cam.ac.uk>.\n",
    "\n",
    "- [Basis finite element solver for an elastic bar](ElasticBarLinearFEM.ipynb)\n",
    "- [Shape functions](ShapeFunctions.ipynb)\n",
    "- [Time dependent problems](TimeDependentProblems.ipynb)"
   ]
>>>>>>> 3fe2d94c730e7b8488e769f862327e680c4be837
  }
 ],
 "metadata": {
  "kernelspec": {
   "display_name": "Python 3",
   "language": "python",
   "name": "python3"
  },
  "language_info": {
   "codemirror_mode": {
    "name": "ipython",
    "version": 3
   },
   "file_extension": ".py",
   "mimetype": "text/x-python",
   "name": "python",
   "nbconvert_exporter": "python",
   "pygments_lexer": "ipython3",
   "version": "3.4.3+"
  }
 },
 "nbformat": 4,
 "nbformat_minor": 0
}
