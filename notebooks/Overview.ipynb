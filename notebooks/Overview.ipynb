{
 "metadata": {
  "name": "",
  "signature": "sha256:8c998d0d921a481acf566f21206b3f5dbd9bf237bd86a60694a13b47cb8f2d85"
 },
 "nbformat": 3,
 "nbformat_minor": 0,
 "worksheets": [
  {
   "cells": [
    {
     "cell_type": "heading",
     "level": 1,
     "metadata": {},
     "source": [
      "Finite Element Methods (3D7)"
     ]
    },
    {
     "cell_type": "markdown",
     "metadata": {},
     "source": [
      "This these notebooks are in support of the course Finite Element Methods (3D7) at the Department of Engineering, University of Cambridge.\n",
      "\n",
      "The notebooks are under development Please report any errors to  Garth N. Wells <gnw20@cam.ac.uk>.\n",
      "\n",
      "- [Basis finite element solver for an elastic bar](ElasticBarLinearFEM.ipynb)\n",
      "- [Shape functions](ShapeFunctions.ipynb)\n",
      "- [Time-dependent problems](TimeDependentProblems.ipynb)"
     ]
    }
   ],
   "metadata": {}
  }
 ]
}