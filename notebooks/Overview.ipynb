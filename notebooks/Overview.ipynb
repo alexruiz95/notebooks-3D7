{
 "metadata": {
  "name": "",
  "signature": "sha256:7228157a079bc1d5ae7371ebb976e66eb76657ff878f40d4f4416560fc38ef34"
 },
 "nbformat": 3,
 "nbformat_minor": 0,
 "worksheets": [
  {
   "cells": [
    {
     "cell_type": "heading",
     "level": 1,
     "metadata": {},
     "source": [
      "Finite Element Methods (3D7)"
     ]
    },
    {
     "cell_type": "markdown",
     "metadata": {},
     "source": [
      "This these notebooks are in support of the course Finite Element Methods (3D7) at the Department of Engineering, University of Cambridge.\n",
      "\n",
      "The notebooks are under development Please report any errors to  Garth N. Wells <gnw20@cam.ac.uk>.\n",
      "\n",
      "- [Basis finite element solver for an elastic bar](ElasticBarLinearFEM.ipynb)\n",
      "- [Shape functions](ShapeFunctions.ipynb)"
     ]
    }
   ],
   "metadata": {}
  }
 ]
}