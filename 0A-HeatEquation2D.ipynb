{
 "cells": [
  {
   "cell_type": "markdown",
   "metadata": {},
   "source": [
    "# Basic FEM Example: Heat Equation\n",
    "\n",
    "First import the required libraries for basic algebra and plotting"
   ]
  },
  {
   "cell_type": "code",
   "execution_count": 1,
   "metadata": {},
   "outputs": [],
   "source": [
    "from numpy import *\n",
    "set_printoptions(2, suppress=True)\n",
    "import matplotlib.pyplot as plt\n",
    "%matplotlib inline"
   ]
  },
  {
   "cell_type": "markdown",
   "metadata": {},
   "source": [
    "### Mesh\n",
    "We define the \"mesh\" in terms of its geometry and topology. The geometry is just a set of $(x, y)$ points - a $(p \\times 2)$ floating point array, where $p$ is the number of points. The topology is the list of points which make up each triangle, hence it is a $(n\\times 3)$ integer array, where $n$ is the number of triangles. Note that numbering starts from zero. Also, the order of the points (i.e. triangle orientation) is important."
   ]
  },
  {
   "cell_type": "code",
   "execution_count": 2,
   "metadata": {
    "collapsed": true
   },
   "outputs": [],
   "source": [
    "geometry = array([[0.0, 0.0],\n",
    "                  [2.0, 0.0],\n",
    "                  [0.0, 1.0],\n",
    "                  [2.0, 1.0]])\n",
    "\n",
    "topology = array([[0, 1, 2],\n",
    "                  [1, 3, 2]])\n",
    "\n",
    "mesh = (geometry, topology)"
   ]
  },
  {
   "cell_type": "markdown",
   "metadata": {},
   "source": [
    "Here is a simple plotting routine to display the mesh"
   ]
  },
  {
   "cell_type": "code",
   "execution_count": 3,
   "metadata": {
    "collapsed": true
   },
   "outputs": [],
   "source": [
    "def plot(mesh):\n",
    "    geom, topo = mesh\n",
    "    x = geom[:,0]\n",
    "    y = geom[:,1]\n",
    "    plt.triplot(x, y, topo)\n",
    "    xmax = x.max()\n",
    "    xmin = x.min()\n",
    "    ymax = y.max()\n",
    "    ymin = y.min()\n",
    "    dx = 0.1*(xmax - xmin)\n",
    "    dy = 0.1*(ymax - ymin)\n",
    "    plt.xlim(xmin-dx, xmax+dx)\n",
    "    plt.ylim(ymin-dy, ymax+dy)\n",
    "    return\n"
   ]
  },
  {
   "cell_type": "code",
   "execution_count": 4,
   "metadata": {},
   "outputs": [
    {
     "data": {
      "image/png": "[encoded data removed]",
      "text/plain": [
       "<matplotlib.figure.Figure at 0x7f7c9f71cb70>"
      ]
     },
     "metadata": {},
     "output_type": "display_data"
    }
   ],
   "source": [
    "plot(mesh)"
   ]
  },
  {
   "cell_type": "markdown",
   "metadata": {},
   "source": [
    "### Element matrix\n",
    "The \"element stiffness matrix\", $K$ depends on the conductivity tensor $D$ and the triangle geometry.\n",
    "\n",
    "$$ K_e = \\int_{\\Omega_e} B_e^T D B_e d\\Omega $$\n"
   ]
  },
  {
   "cell_type": "code",
   "execution_count": 5,
   "metadata": {
    "collapsed": true
   },
   "outputs": [],
   "source": [
    "def Kmat(D, p, geometry):\n",
    "    ''' Calculate K from the D matrix and the points '''\n",
    "    # D contains the conductivity tensor\n",
    "    # p contains the indices of the three points\n",
    "    # making up the triangle\n",
    "    assert(len(p) == 3)\n",
    "    x0, y0 = geometry[p[0]]\n",
    "    x1, y1 = geometry[p[1]]\n",
    "    x2, y2 = geometry[p[2]]\n",
    "\n",
    "    # Element area Ae\n",
    "    Ae = 0.5*abs((x0 - x1)*(y2 - y1) - (y0 - y1)*(x2 - x1))\n",
    "\n",
    "    # 'B' Matrix - representing the 'gradient' operator\n",
    "    B = array([[y1 - y2, y2 - y0, y0 - y1],\n",
    "               [x2 - x1, x0 - x2, x1 - x0]])/(2*Ae)\n",
    "\n",
    "    K = Ae*matmul(B.transpose(), matmul(D, B))\n",
    "    return K"
   ]
  },
  {
   "cell_type": "markdown",
   "metadata": {},
   "source": [
    "### Matrix assembly (LHS)\n",
    "The process of combining the local element matrices into a larger global matrix is called \"assembly\". It is really just a case of relabelling the indices with their global values, and adding the local matrices together."
   ]
  },
  {
   "cell_type": "code",
   "execution_count": 6,
   "metadata": {
    "collapsed": true
   },
   "outputs": [],
   "source": [
    "def assemble_matrix(mesh, Dmat):\n",
    "    geom, topo = mesh\n",
    "    np = len(geom)\n",
    "    Kglobal = zeros((np, np))\n",
    "    \n",
    "    for tri in topo:\n",
    "        K = Kmat(Dmat, tri, geom)\n",
    "        for i, idx in enumerate(tri):\n",
    "            for j, jdx in enumerate(tri):\n",
    "                Kglobal[idx, jdx] += K[i, j]\n",
    "    return Kglobal"
   ]
  },
  {
   "cell_type": "code",
   "execution_count": 7,
   "metadata": {
    "collapsed": true
   },
   "outputs": [],
   "source": [
    "Dmat = array([[5.0, 0.0],\n",
    "              [0.0, 5.0]])"
   ]
  },
  {
   "cell_type": "code",
   "execution_count": 8,
   "metadata": {
    "collapsed": true
   },
   "outputs": [],
   "source": [
    "Kglobal = assemble_matrix(mesh, Dmat)"
   ]
  },
  {
   "cell_type": "markdown",
   "metadata": {},
   "source": [
    "The fully assembled left-hand side (LHS) looks like this:"
   ]
  },
  {
   "cell_type": "code",
   "execution_count": 9,
   "metadata": {},
   "outputs": [
    {
     "name": "stdout",
     "output_type": "stream",
     "text": [
      "[[ 6.25 -1.25 -5.    0.  ]\n",
      " [-1.25  6.25  0.   -5.  ]\n",
      " [-5.    0.    6.25 -1.25]\n",
      " [ 0.   -5.   -1.25  6.25]]\n"
     ]
    }
   ],
   "source": [
    "print(Kglobal)"
   ]
  },
  {
   "cell_type": "markdown",
   "metadata": {},
   "source": [
    "### Vector assembly (RHS)\n",
    "Now we need to perform RHS assembly on the vector $f$. This is similar to the matrix assembly above.\n",
    "\n",
    "The individual vector for each element is defined in `fvec()` and they are combined together in `assemble_vector()`."
   ]
  },
  {
   "cell_type": "code",
   "execution_count": 10,
   "metadata": {
    "collapsed": true
   },
   "outputs": [],
   "source": [
    "def fvec(s, p, geom):\n",
    "    assert(len(p) == 3)\n",
    "    x0, y0 = geometry[p[0]]\n",
    "    x1, y1 = geometry[p[1]]\n",
    "    x2, y2 = geometry[p[2]]\n",
    "\n",
    "    # Element area Ae\n",
    "    Ae = 0.5*abs((x0 - x1)*(y2 - y1) - (y0 - y1)*(x2 - x1))\n",
    "    return s*Ae/3.0*ones(3)\n",
    "\n",
    "def assemble_vector(mesh, s):\n",
    "    geom, topo = mesh\n",
    "    fg = zeros(len(geom))\n",
    "    for tri in topo:\n",
    "        f = fvec(s, tri, geom)\n",
    "        for i, idx in enumerate(tri):\n",
    "            fg[idx] += f[i]\n",
    "    return fg\n",
    "\n",
    "fglobal = assemble_vector(mesh, 3.0)"
   ]
  },
  {
   "cell_type": "markdown",
   "metadata": {},
   "source": [
    "### Boundary flux terms\n",
    "There are also some boundary flux terms in the example. Here we will add them directly to $f$."
   ]
  },
  {
   "cell_type": "code",
   "execution_count": 11,
   "metadata": {
    "collapsed": true
   },
   "outputs": [],
   "source": [
    "fglobal += array([0.0, -10.0, 0.0, -10.0])"
   ]
  },
  {
   "cell_type": "markdown",
   "metadata": {},
   "source": [
    "### Boundary conditions \n",
    "\n",
    "Dirichlet boundary conditions can be enforced by zeroing a row of the $K$ matrix, setting the diagonal entry to 1, and putting the desired value in the RHS $f$ vector"
   ]
  },
  {
   "cell_type": "code",
   "execution_count": 12,
   "metadata": {
    "collapsed": true
   },
   "outputs": [],
   "source": [
    "def set_bc(K, f, row, val):\n",
    "    # Set BC\n",
    "    K[row] = 0.0\n",
    "    K[row, row] = 1.0\n",
    "    f[row] = val\n",
    "\n",
    "set_bc(Kglobal, fglobal, 0, 0.0)   \n",
    "set_bc(Kglobal, fglobal, 2, 0.0)"
   ]
  },
  {
   "cell_type": "markdown",
   "metadata": {},
   "source": [
    "Finally, we can refer the $K.u = f$ problem to a linear algebra solver which will use an LU method to get the answer"
   ]
  },
  {
   "cell_type": "code",
   "execution_count": 13,
   "metadata": {},
   "outputs": [
    {
     "name": "stdout",
     "output_type": "stream",
     "text": [
      "[-0.   -6.76  0.   -6.84]\n"
     ]
    }
   ],
   "source": [
    "u = linalg.solve(Kglobal, fglobal)\n",
    "print(u)\n"
   ]
  },
  {
   "cell_type": "code",
   "execution_count": null,
   "metadata": {
    "collapsed": true
   },
   "outputs": [],
   "source": []
  }
 ],
 "metadata": {
  "kernelspec": {
   "display_name": "Python 3",
   "language": "python",
   "name": "python3"
  },
  "language_info": {
   "codemirror_mode": {
    "name": "ipython",
    "version": 3
   },
   "file_extension": ".py",
   "mimetype": "text/x-python",
   "name": "python",
   "nbconvert_exporter": "python",
   "pygments_lexer": "ipython3",
   "version": "3.5.2"
  }
 },
 "nbformat": 4,
 "nbformat_minor": 2
}
