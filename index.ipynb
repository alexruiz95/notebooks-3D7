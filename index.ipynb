{
 "cells": [
  {
   "cell_type": "markdown",
   "metadata": {},
   "source": [
    "# Finite Element Methods (3D7)"
   ]
  },
  {
   "cell_type": "markdown",
   "metadata": {},
   "source": [
    "These notebooks are in support of the course Finite Element Methods (3D7) at the Department of Engineering, University of Cambridge.\n",
    "\n",
    "Please report any errors to  Garth N. Wells <gnw20@cam.ac.uk>.\n",
    "\n",
    "- [Basis finite element solver for an elastic bar](ElasticBarLinearFEM.ipynb)\n",
    "- [Shape functions](ShapeFunctions.ipynb)\n",
    "- [Time dependent problems](TimeDependentProblems.ipynb)"
   ]
  }
 ],
 "metadata": {
  "kernelspec": {
   "display_name": "Python 3",
   "language": "python",
   "name": "python3"
  },
  "language_info": {
   "codemirror_mode": {
    "name": "ipython",
    "version": 3
   },
   "file_extension": ".py",
   "mimetype": "text/x-python",
   "name": "python",
   "nbconvert_exporter": "python",
   "pygments_lexer": "ipython3",
   "version": "3.4.3+"
  }
 },
 "nbformat": 4,
 "nbformat_minor": 0
}
